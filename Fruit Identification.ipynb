{
 "cells": [
  {
   "cell_type": "markdown",
   "metadata": {},
   "source": [
    "# Fruit Identification"
   ]
  },
  {
   "cell_type": "code",
   "execution_count": 1,
   "metadata": {},
   "outputs": [],
   "source": [
    "# import libraries\n",
    "import os, shutil\n",
    "import numpy as np\n",
    "import pandas as pd\n",
    "import matplotlib.pyplot as plt\n",
    "%matplotlib inline\n"
   ]
  },
  {
   "cell_type": "markdown",
   "metadata": {},
   "source": [
    "# 1.1 Organize Data: Combine The Data"
   ]
  },
  {
   "cell_type": "markdown",
   "metadata": {},
   "source": [
    "First I will take all the images from the training and test set and put them into one set"
   ]
  },
  {
   "cell_type": "code",
   "execution_count": 11,
   "metadata": {},
   "outputs": [],
   "source": [
    "# collect all data into one set, the \"Complete_Set\"\n",
    "try:\n",
    "    os.mkdir(\"Complete_Set\")\n",
    "\n",
    "# iterate over train and test sets\n",
    "for set_folder in [\"Training\", \"Test\"]:\n",
    "    \n",
    "    # iterate over all the different folders for fruit in both training and test sets\n",
    "    for fruit_folder in os.listdir(set_folder):\n",
    "        \n",
    "        # create a new folder in the complete set everytime a new fruit is seen\n",
    "        if fruit_folder not in os.listdir(\"Complete_Set\"):\n",
    "            os.mkdir(\"Complete_Set\\\\\" + fruit_folder)\n",
    "        \n",
    "        # iterate over every image \n",
    "        for img in os.listdir(set_folder + \"\\\\\" + fruit_folder):\n",
    "        \n",
    "            # save the names of the old and new file paths\n",
    "            origin = set_folder + \"\\\\\" + fruit_folder + \"\\\\\" + img\n",
    "            destination = \"Complete_Set\\\\\" + fruit_folder + \"\\\\\" + img\n",
    "            \n",
    "            # copy the files into the complete set folder\n",
    "            shutil.copyfile(origin, destination)"
   ]
  },
  {
   "cell_type": "markdown",
   "metadata": {},
   "source": [
    "# 1.2 Organize Data: Train/Validation/Test Split\n",
    "Now I will do a 70/15/15 split into train, validation, and test sets for each unique fruit"
   ]
  },
  {
   "cell_type": "code",
   "execution_count": 49,
   "metadata": {},
   "outputs": [],
   "source": [
    "# create a helper function for counting images in a fruit folder\n",
    "def img_count(fruit_folder):\n",
    "    n_imgs = len(os.listdir(fruit_folder))\n",
    "    return n_imgs\n",
    "\n",
    "# create a helper function for finding the correct indexes to split on\n",
    "# based on the number of images in a fruit folder\n",
    "def find_indexes(n_imgs):\n",
    "    import numpy as np\n",
    "    \n",
    "    train_index = int(np.ceil(0.7 * n_imgs))\n",
    "    val_index = int(0.85 * n_imgs)\n",
    "    \n",
    "    return train_index, val_index\n",
    "\n",
    "# create a function to split a fruit folder\n",
    "def split_fruit(fruit_folder, train_directory, val_directory, test_directory):\n",
    "    \n",
    "    # find number of images in fruit folder\n",
    "    n_imgs = img_count(\"Complete_Set\\\\\" + fruit_folder)\n",
    "    \n",
    "    # find indexes to split on\n",
    "    train_index, val_index = find_indexes(n_imgs)\n",
    "    \n",
    "    # create a list of all the images in the folder\n",
    "    imgs = [img for img in os.listdir(\"Complete_Set\\\\\" + fruit_folder)]\n",
    "    \n",
    "    # shuffle images to ensure randomness\n",
    "    np.random.shuffle(imgs)\n",
    "    \n",
    "    # iterate over images\n",
    "    for img in imgs:\n",
    "        \n",
    "        # save file path origin for image\n",
    "        origin = \"Complete_Set\\\\\" + fruit_folder + \"\\\\\" + img\n",
    "        \n",
    "        # instantiate a variable for the destination file path\n",
    "        destination = \"\"\n",
    "        \n",
    "        # based on the index find the correct destination\n",
    "        if img in imgs[ : train_index]:\n",
    "            destination = train_directory + \"\\\\\" + fruit_folder +\"\\\\\" + img\n",
    "        elif img in imgs[train_index : val_index]:\n",
    "            destination = val_directory + \"\\\\\" + fruit_folder +\"\\\\\" + img\n",
    "        else:\n",
    "            destination = test_directory + \"\\\\\" + fruit_folder +\"\\\\\" + img\n",
    "            \n",
    "        # copy image to the correct destination\n",
    "        shutil.copyfile(origin, destination)"
   ]
  },
  {
   "cell_type": "code",
   "execution_count": null,
   "metadata": {},
   "outputs": [],
   "source": [
    "# iterate over all the unique fruits in the complete data set\n",
    "for fruit_folder in os.listdir(\"Complete_Set\"):\n",
    "    \n",
    "    # iterate over the three new sets: train, validation, and test\n",
    "    for subset in [\"new_train\", \"new_validation\", \"new_test\"]:\n",
    "        \n",
    "        # if not done already, create a new directory for each set\n",
    "        try:\n",
    "            os.mkdir(subset)\n",
    "        except:\n",
    "            pass\n",
    "        \n",
    "        # if there is not one already, make a new directory for the unique fruit\n",
    "        try:\n",
    "            os.mkdir(subset + \"\\\\\" + fruit_folder)\n",
    "        except:\n",
    "            pass\n",
    "    \n",
    "    # copy the images over and do the train/val/test split\n",
    "    split_fruit(fruit_folder, \"new_train\", \"new_validation\", \"new_test\")"
   ]
  }
 ],
 "metadata": {
  "kernelspec": {
   "display_name": "Python 3",
   "language": "python",
   "name": "python3"
  },
  "language_info": {
   "codemirror_mode": {
    "name": "ipython",
    "version": 3
   },
   "file_extension": ".py",
   "mimetype": "text/x-python",
   "name": "python",
   "nbconvert_exporter": "python",
   "pygments_lexer": "ipython3",
   "version": "3.7.3"
  }
 },
 "nbformat": 4,
 "nbformat_minor": 2
}
