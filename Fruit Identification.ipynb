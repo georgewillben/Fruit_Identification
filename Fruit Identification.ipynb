{
 "cells": [
  {
   "cell_type": "markdown",
   "metadata": {},
   "source": [
    "# Fruit Identification"
   ]
  },
  {
   "cell_type": "code",
   "execution_count": 1,
   "metadata": {},
   "outputs": [],
   "source": [
    "# import libraries\n",
    "import os, shutil\n",
    "import numpy as np\n",
    "import pandas as pd\n",
    "import matplotlib.pyplot as plt\n",
    "%matplotlib inline\n"
   ]
  },
  {
   "cell_type": "markdown",
   "metadata": {},
   "source": [
    "# 1.1 Organize Data: Combine The Data"
   ]
  },
  {
   "cell_type": "markdown",
   "metadata": {},
   "source": [
    "First I will take all the images from the training and test set and put them into one set"
   ]
  },
  {
   "cell_type": "code",
   "execution_count": 11,
   "metadata": {},
   "outputs": [],
   "source": [
    "# collect all data into one set, the \"Complete_Set\"\n",
    "os.mkdir(\"Complete_Set\")\n",
    "\n",
    "# iterate over train and test sets\n",
    "for set_folder in [\"Training\", \"Test\"]:\n",
    "    \n",
    "    # iterate over all the different folders for fruit in both training and test sets\n",
    "    for fruit_folder in os.listdir(set_folder):\n",
    "        \n",
    "        # create a new folder in the complete set everytime a new fruit is seen\n",
    "        if fruit_folder not in os.listdir(\"Complete_Set\"):\n",
    "            os.mkdir(\"Complete_Set\\\\\" + fruit_folder)\n",
    "        \n",
    "        # iterate over every image \n",
    "        for img in os.listdir(set_folder + \"\\\\\" + fruit_folder):\n",
    "        \n",
    "            # save the names of the old and new file paths\n",
    "            origin = set_folder + \"\\\\\" + fruit_folder + \"\\\\\" + img\n",
    "            destination = \"Complete_Set\\\\\" + fruit_folder + \"\\\\\" + img\n",
    "            \n",
    "            # copy the files into the complete set folder\n",
    "            shutil.copyfile(origin, destination)"
   ]
  },
  {
   "cell_type": "markdown",
   "metadata": {},
   "source": [
    "# 1.2 Organize Data: Train/Validation/Test Split\\\n",
    "Now I will do a 70/15/15 split into train, validation, and test sets for each unique fruit"
   ]
  },
  {
   "cell_type": "code",
   "execution_count": 15,
   "metadata": {},
   "outputs": [],
   "source": [
    "# create a function for splitting fruit\n",
    "def fruit_split(fruit_folder):\n",
    "    no_imgs = len(os.listdir(fruit_foler))\n",
    "\n"
   ]
  },
  {
   "cell_type": "code",
   "execution_count": null,
   "metadata": {},
   "outputs": [],
   "source": [
    "fruit_"
   ]
  }
 ],
 "metadata": {
  "kernelspec": {
   "display_name": "Python 3",
   "language": "python",
   "name": "python3"
  },
  "language_info": {
   "codemirror_mode": {
    "name": "ipython",
    "version": 3
   },
   "file_extension": ".py",
   "mimetype": "text/x-python",
   "name": "python",
   "nbconvert_exporter": "python",
   "pygments_lexer": "ipython3",
   "version": "3.7.3"
  }
 },
 "nbformat": 4,
 "nbformat_minor": 2
}
