{
 "cells": [
  {
   "cell_type": "markdown",
   "metadata": {},
   "source": [
    "# Fruit Identification"
   ]
  },
  {
   "cell_type": "code",
   "execution_count": 36,
   "metadata": {},
   "outputs": [],
   "source": [
    "# import libraries\n",
    "import os, shutil\n",
    "import numpy as np\n",
    "import pandas as pd\n",
    "import matplotlib.pyplot as plt\n",
    "%matplotlib inline\n",
    "from sklearn.datasets import load_files\n",
    "\n",
    "\n",
    "# deep learning libraries\n",
    "from keras.utils import np_utils\n",
    "from keras.preprocessing.image import ImageDataGenerator, array_to_img, img_to_array, load_img\n",
    "from keras.models import Sequential\n",
    "from keras.layers import Dense, Activation, Dropout, Flatten, Conv2D, MaxPooling2D\n",
    "from keras.callbacks import ModelCheckpoint"
   ]
  },
  {
   "cell_type": "markdown",
   "metadata": {},
   "source": [
    "# 1.1 Organize Data: Combine The Data"
   ]
  },
  {
   "cell_type": "markdown",
   "metadata": {},
   "source": [
    "First I will take all the images from the training and test set and put them into one set"
   ]
  },
  {
   "cell_type": "code",
   "execution_count": 11,
   "metadata": {},
   "outputs": [],
   "source": [
    "# collect all data into one set, the \"Complete_Set\"\n",
    "try:\n",
    "    os.mkdir(\"Complete_Set\")\n",
    "\n",
    "# iterate over train and test sets\n",
    "for set_folder in [\"Training\", \"Test\"]:\n",
    "    \n",
    "    # iterate over all the different folders for fruit in both training and test sets\n",
    "    for fruit_folder in os.listdir(set_folder):\n",
    "        \n",
    "        # create a new folder in the complete set everytime a new fruit is seen\n",
    "        if fruit_folder not in os.listdir(\"Complete_Set\"):\n",
    "            os.mkdir(\"Complete_Set\\\\\" + fruit_folder)\n",
    "        \n",
    "        # iterate over every image \n",
    "        for img in os.listdir(set_folder + \"\\\\\" + fruit_folder):\n",
    "        \n",
    "            # save the names of the old and new file paths\n",
    "            origin = set_folder + \"\\\\\" + fruit_folder + \"\\\\\" + img\n",
    "            destination = \"Complete_Set\\\\\" + fruit_folder + \"\\\\\" + img\n",
    "            \n",
    "            # copy the files into the complete set folder\n",
    "            shutil.copyfile(origin, destination)"
   ]
  },
  {
   "cell_type": "markdown",
   "metadata": {},
   "source": [
    "# 1.2 Organize Data: Find Class Distribution\n",
    "Here I will tally up how many pictures belong to each class of fruit."
   ]
  },
  {
   "cell_type": "code",
   "execution_count": 9,
   "metadata": {},
   "outputs": [
    {
     "data": {
      "text/html": [
       "<div>\n",
       "<style scoped>\n",
       "    .dataframe tbody tr th:only-of-type {\n",
       "        vertical-align: middle;\n",
       "    }\n",
       "\n",
       "    .dataframe tbody tr th {\n",
       "        vertical-align: top;\n",
       "    }\n",
       "\n",
       "    .dataframe thead th {\n",
       "        text-align: right;\n",
       "    }\n",
       "</style>\n",
       "<table border=\"1\" class=\"dataframe\">\n",
       "  <thead>\n",
       "    <tr style=\"text-align: right;\">\n",
       "      <th></th>\n",
       "      <th>fruit name</th>\n",
       "      <th>n_imgs</th>\n",
       "    </tr>\n",
       "  </thead>\n",
       "  <tbody>\n",
       "    <tr>\n",
       "      <th>0</th>\n",
       "      <td>Apple Braeburn</td>\n",
       "      <td>656</td>\n",
       "    </tr>\n",
       "    <tr>\n",
       "      <th>1</th>\n",
       "      <td>Apple Crimson Snow</td>\n",
       "      <td>592</td>\n",
       "    </tr>\n",
       "    <tr>\n",
       "      <th>2</th>\n",
       "      <td>Apple Golden 1</td>\n",
       "      <td>640</td>\n",
       "    </tr>\n",
       "    <tr>\n",
       "      <th>3</th>\n",
       "      <td>Apple Golden 2</td>\n",
       "      <td>656</td>\n",
       "    </tr>\n",
       "    <tr>\n",
       "      <th>4</th>\n",
       "      <td>Apple Golden 3</td>\n",
       "      <td>642</td>\n",
       "    </tr>\n",
       "  </tbody>\n",
       "</table>\n",
       "</div>"
      ],
      "text/plain": [
       "           fruit name  n_imgs\n",
       "0      Apple Braeburn     656\n",
       "1  Apple Crimson Snow     592\n",
       "2      Apple Golden 1     640\n",
       "3      Apple Golden 2     656\n",
       "4      Apple Golden 3     642"
      ]
     },
     "execution_count": 9,
     "metadata": {},
     "output_type": "execute_result"
    }
   ],
   "source": [
    "# create a storage space for the information\n",
    "fruit_count = []\n",
    "\n",
    "# loop through all the different fruit folders\n",
    "for fruit_folder in os.listdir(\"Complete_Set\"):\n",
    "    \n",
    "    # count the amount of images\n",
    "    n_imgs = len([img for img in os.listdir(\"Complete_Set\\\\\" + fruit_folder)])\n",
    "    \n",
    "    # add data to storage space\n",
    "    fruit_count.append({\"fruit name\":fruit_folder, \"n_imgs\":n_imgs})\n",
    "    \n",
    "# save data to dataframe\n",
    "count_df = pd.DataFrame(fruit_count)\n",
    "\n",
    "count_df.head()"
   ]
  },
  {
   "cell_type": "code",
   "execution_count": 22,
   "metadata": {},
   "outputs": [
    {
     "name": "stdout",
     "output_type": "stream",
     "text": [
      "There are 131 different types of fruit in this data set. With 90375 images total.\n",
      "\n",
      "The median amount of images per a fruit is 656.0.\n",
      "\n",
      "The least represented fruit is Ginger Root. It has a total of 396 Images.\n",
      "\n",
      "\n"
     ]
    },
    {
     "data": {
      "image/png": "[encoded data removed]",
      "text/plain": [
       "<Figure size 432x288 with 1 Axes>"
      ]
     },
     "metadata": {
      "needs_background": "light"
     },
     "output_type": "display_data"
    }
   ],
   "source": [
    "# print how many total fruit their are total and how many images their are total\n",
    "print(f\"There are {len(count_df)} different types of fruit in this data set. With {sum(count_df.n_imgs)} images total.\\n\")\n",
    "\n",
    "# print the median amount of images per a fruit\n",
    "print(f\"The median amount of images per a fruit is {count_df.n_imgs.median()}.\\n\")\n",
    "\n",
    "# print the fruit with the minimum photos and print what that minimum value is\n",
    "rare_fruit = count_df[count_df.n_imgs == count_df.n_imgs.min()][\"fruit name\"].values[0]\n",
    "print(f\"The least represented fruit is {rare_fruit}. It has a total of {count_df.n_imgs.min()} Images.\\n\\n\")\n",
    "\n",
    "# plot distribution of fruit counts\n",
    "plt.hist(count_df.n_imgs)\n",
    "plt.title(\"distribution of the amount of images per a fruit\".title())\n",
    "plt.show()"
   ]
  },
  {
   "cell_type": "markdown",
   "metadata": {},
   "source": [
    "# 1.3 Organize Data: Train/Validation/Test Split\n",
    "Now I will do a 70/15/15 split into train, validation, and test sets for each unique fruit"
   ]
  },
  {
   "cell_type": "code",
   "execution_count": 49,
   "metadata": {},
   "outputs": [],
   "source": [
    "# create a helper function for counting images in a fruit folder\n",
    "def img_count(fruit_folder):\n",
    "    n_imgs = len(os.listdir(fruit_folder))\n",
    "    return n_imgs\n",
    "\n",
    "# create a helper function for finding the correct indexes to split on\n",
    "# based on the number of images in a fruit folder\n",
    "def find_indexes(n_imgs):\n",
    "    import numpy as np\n",
    "    \n",
    "    train_index = int(np.ceil(0.7 * n_imgs))\n",
    "    val_index = int(0.85 * n_imgs)\n",
    "    \n",
    "    return train_index, val_index\n",
    "\n",
    "# create a function to split a fruit folder\n",
    "def split_fruit(fruit_folder, train_directory, val_directory, test_directory):\n",
    "    \n",
    "    # find number of images in fruit folder\n",
    "    n_imgs = img_count(\"Complete_Set\\\\\" + fruit_folder)\n",
    "    \n",
    "    # find indexes to split on\n",
    "    train_index, val_index = find_indexes(n_imgs)\n",
    "    \n",
    "    # create a list of all the images in the folder\n",
    "    imgs = [img for img in os.listdir(\"Complete_Set\\\\\" + fruit_folder)]\n",
    "    \n",
    "    # shuffle images to ensure randomness\n",
    "    np.random.shuffle(imgs)\n",
    "    \n",
    "    # iterate over images\n",
    "    for img in imgs:\n",
    "        \n",
    "        # save file path origin for image\n",
    "        origin = \"Complete_Set\\\\\" + fruit_folder + \"\\\\\" + img\n",
    "        \n",
    "        # instantiate a variable for the destination file path\n",
    "        destination = \"\"\n",
    "        \n",
    "        # based on the index find the correct destination\n",
    "        if img in imgs[ : train_index]:\n",
    "            destination = train_directory + \"\\\\\" + fruit_folder +\"\\\\\" + img\n",
    "        elif img in imgs[train_index : val_index]:\n",
    "            destination = val_directory + \"\\\\\" + fruit_folder +\"\\\\\" + img\n",
    "        else:\n",
    "            destination = test_directory + \"\\\\\" + fruit_folder +\"\\\\\" + img\n",
    "            \n",
    "        # copy image to the correct destination\n",
    "        shutil.copyfile(origin, destination)"
   ]
  },
  {
   "cell_type": "code",
   "execution_count": 50,
   "metadata": {},
   "outputs": [],
   "source": [
    "# iterate over all the unique fruits in the complete data set\n",
    "for fruit_folder in os.listdir(\"Complete_Set\"):\n",
    "    \n",
    "    # iterate over the three new sets: train, validation, and test\n",
    "    for subset in [\"new_train\", \"new_validation\", \"new_test\"]:\n",
    "        \n",
    "        # if not done already, create a new directory for each set\n",
    "        try:\n",
    "            os.mkdir(subset)\n",
    "        except:\n",
    "            pass\n",
    "        \n",
    "        # if there is not one already, make a new directory for the unique fruit\n",
    "        try:\n",
    "            os.mkdir(subset + \"\\\\\" + fruit_folder)\n",
    "        except:\n",
    "            pass\n",
    "    \n",
    "    # copy the images over and do the train/val/test split\n",
    "    split_fruit(fruit_folder, \"new_train\", \"new_validation\", \"new_test\")"
   ]
  },
  {
   "cell_type": "markdown",
   "metadata": {},
   "source": [
    "# 1.4 Organize Data: Establish X and Y Variables"
   ]
  },
  {
   "cell_type": "code",
   "execution_count": 7,
   "metadata": {},
   "outputs": [],
   "source": [
    "# taken from kaggle post \n",
    "# https://www.kaggle.com/aninditapani/cnn-from-scratch-with-98-accuracy\n",
    "def load_dataset(path):\n",
    "    data = load_files(path)\n",
    "    files = np.array(data['filenames'])\n",
    "    targets = np.array(data['target'])\n",
    "    target_labels = np.array(data['target_names'])\n",
    "    return files,targets,target_labels\n",
    "    \n",
    "X_train, y_train, target_labels = load_dataset(\"new_train\")\n",
    "X_val, y_val, _ = load_dataset(\"new_validation\")\n",
    "X_test, y_test, _ = load_dataset(\"new_test\")"
   ]
  },
  {
   "cell_type": "markdown",
   "metadata": {},
   "source": [
    "# 2.1 Preprocessing: One Hot Encode Y Variable"
   ]
  },
  {
   "cell_type": "code",
   "execution_count": 13,
   "metadata": {},
   "outputs": [
    {
     "data": {
      "text/plain": [
       "131"
      ]
     },
     "execution_count": 13,
     "metadata": {},
     "output_type": "execute_result"
    }
   ],
   "source": [
    "len(np.unique(y_train))"
   ]
  },
  {
   "cell_type": "code",
   "execution_count": 14,
   "metadata": {},
   "outputs": [],
   "source": [
    "def encode_y(y):\n",
    "    return np_utils.to_categorical(y, 131)\n",
    "\n",
    "y_train = encode_y(y_train)\n",
    "y_val = encode_y(y_val)\n",
    "y_test = encode_y(y_test)"
   ]
  },
  {
   "cell_type": "code",
   "execution_count": 15,
   "metadata": {},
   "outputs": [
    {
     "data": {
      "text/plain": [
       "(63342, 131)"
      ]
     },
     "execution_count": 15,
     "metadata": {},
     "output_type": "execute_result"
    }
   ],
   "source": [
    "y_train.shape"
   ]
  },
  {
   "cell_type": "markdown",
   "metadata": {},
   "source": [
    "# 2.2 Preprocessing: Turn X Into A Pixel Value Array"
   ]
  },
  {
   "cell_type": "code",
   "execution_count": 16,
   "metadata": {},
   "outputs": [
    {
     "data": {
      "text/plain": [
       "'new_train\\\\Apple Red 2\\\\320_100.jpg'"
      ]
     },
     "execution_count": 16,
     "metadata": {},
     "output_type": "execute_result"
    }
   ],
   "source": [
    "X_train[0]"
   ]
  },
  {
   "cell_type": "code",
   "execution_count": 21,
   "metadata": {},
   "outputs": [],
   "source": [
    "def X_to_array(X):\n",
    "    arr = []\n",
    "    for img in X:\n",
    "        arr.append(img_to_array(load_img(img)))\n",
    "    return np.array(arr)"
   ]
  },
  {
   "cell_type": "code",
   "execution_count": 22,
   "metadata": {},
   "outputs": [
    {
     "data": {
      "text/plain": [
       "(63342, 100, 100, 3)"
      ]
     },
     "execution_count": 22,
     "metadata": {},
     "output_type": "execute_result"
    }
   ],
   "source": [
    "X_train = X_to_array(X_train)\n",
    "X_val = X_to_array(X_val)\n",
    "X_test = X_to_array(X_test)\n",
    "\n",
    "X_train.shape"
   ]
  },
  {
   "cell_type": "markdown",
   "metadata": {},
   "source": [
    "# 2.3 Preprocessing: Scale X"
   ]
  },
  {
   "cell_type": "code",
   "execution_count": 29,
   "metadata": {},
   "outputs": [
    {
     "data": {
      "text/plain": [
       "array([[254., 255., 255.],\n",
       "       [254., 255., 255.],\n",
       "       [254., 255., 255.],\n",
       "       [254., 255., 255.],\n",
       "       [255., 255., 255.]], dtype=float32)"
      ]
     },
     "execution_count": 29,
     "metadata": {},
     "output_type": "execute_result"
    }
   ],
   "source": [
    "X_train[0][0][:5]"
   ]
  },
  {
   "cell_type": "code",
   "execution_count": 30,
   "metadata": {},
   "outputs": [],
   "source": [
    "def scale(X):\n",
    "    return X\n",
    "\n",
    "X_train = scale(X_train)\n",
    "X_val = scale(X_val)\n",
    "X_test = scale(X_test)"
   ]
  },
  {
   "cell_type": "markdown",
   "metadata": {},
   "source": [
    "# 3.1 Modeling: Creating A Model Architecture"
   ]
  },
  {
   "cell_type": "code",
   "execution_count": 33,
   "metadata": {},
   "outputs": [
    {
     "name": "stdout",
     "output_type": "stream",
     "text": [
      "Model: \"sequential_3\"\n",
      "_________________________________________________________________\n",
      "Layer (type)                 Output Shape              Param #   \n",
      "=================================================================\n",
      "conv2d_4 (Conv2D)            (None, 100, 100, 16)      784       \n",
      "_________________________________________________________________\n",
      "activation_2 (Activation)    (None, 100, 100, 16)      0         \n",
      "_________________________________________________________________\n",
      "max_pooling2d_4 (MaxPooling2 (None, 25, 25, 16)        0         \n",
      "_________________________________________________________________\n",
      "conv2d_5 (Conv2D)            (None, 25, 25, 32)        4640      \n",
      "_________________________________________________________________\n",
      "max_pooling2d_5 (MaxPooling2 (None, 8, 8, 32)          0         \n",
      "_________________________________________________________________\n",
      "conv2d_6 (Conv2D)            (None, 8, 8, 64)          8256      \n",
      "_________________________________________________________________\n",
      "max_pooling2d_6 (MaxPooling2 (None, 4, 4, 64)          0         \n",
      "_________________________________________________________________\n",
      "conv2d_7 (Conv2D)            (None, 4, 4, 128)         32896     \n",
      "_________________________________________________________________\n",
      "max_pooling2d_7 (MaxPooling2 (None, 2, 2, 128)         0         \n",
      "_________________________________________________________________\n",
      "dropout_1 (Dropout)          (None, 2, 2, 128)         0         \n",
      "_________________________________________________________________\n",
      "flatten_1 (Flatten)          (None, 512)               0         \n",
      "_________________________________________________________________\n",
      "dense_1 (Dense)              (None, 200)               102600    \n",
      "_________________________________________________________________\n",
      "activation_3 (Activation)    (None, 200)               0         \n",
      "_________________________________________________________________\n",
      "dropout_2 (Dropout)          (None, 200)               0         \n",
      "_________________________________________________________________\n",
      "dense_2 (Dense)              (None, 131)               26331     \n",
      "=================================================================\n",
      "Total params: 175,507\n",
      "Trainable params: 175,507\n",
      "Non-trainable params: 0\n",
      "_________________________________________________________________\n"
     ]
    }
   ],
   "source": [
    "# inspired from kaggle post \n",
    "# https://www.kaggle.com/aninditapani/cnn-from-scratch-with-98-accuracy\n",
    "model = Sequential()\n",
    "model.add(Conv2D(filters = 16, kernel_size = 4, input_shape=(100,100,3), padding='same'))\n",
    "model.add(Activation('relu'))\n",
    "model.add(MaxPooling2D(pool_size=4))\n",
    "\n",
    "model.add(Conv2D(filters = 32, kernel_size = 3, activation = 'relu', padding='same'))\n",
    "model.add(MaxPooling2D(pool_size=3))\n",
    "\n",
    "model.add(Conv2D(filters = 64, kernel_size = 2, activation = 'relu', padding='same'))\n",
    "model.add(MaxPooling2D(pool_size=2))\n",
    "\n",
    "model.add(Conv2D(filters = 128, kernel_size = 2, activation = 'relu', padding='same'))\n",
    "model.add(MaxPooling2D(pool_size=2))\n",
    "\n",
    "model.add(Dropout(0.4))\n",
    "model.add(Flatten())\n",
    "model.add(Dense(200))\n",
    "model.add(Activation('relu'))\n",
    "model.add(Dropout(0.5))\n",
    "model.add(Dense(131, activation = 'softmax'))\n",
    "model.summary()"
   ]
  },
  {
   "cell_type": "code",
   "execution_count": 35,
   "metadata": {},
   "outputs": [
    {
     "name": "stdout",
     "output_type": "stream",
     "text": [
      "Compiled!\n"
     ]
    }
   ],
   "source": [
    "# taken from kaggle post \n",
    "# https://www.kaggle.com/aninditapani/cnn-from-scratch-with-98-accuracy\n",
    "model.compile(loss='categorical_crossentropy',\n",
    "              optimizer='rmsprop',\n",
    "              metrics=['accuracy'])\n",
    "print('Compiled!')"
   ]
  },
  {
   "cell_type": "markdown",
   "metadata": {},
   "source": [
    "# 3.2 Modeling: Training"
   ]
  },
  {
   "cell_type": "code",
   "execution_count": 40,
   "metadata": {
    "scrolled": true
   },
   "outputs": [
    {
     "name": "stdout",
     "output_type": "stream",
     "text": [
      "Train on 63342 samples, validate on 13409 samples\n",
      "Epoch 1/7\n",
      " - 172s - loss: 0.5751 - accuracy: 0.9147 - val_loss: 0.0384 - val_accuracy: 0.9921\n",
      "\n",
      "Epoch 00001: val_loss improved from inf to 0.03836, saving model to cnn.hdf5\n",
      "Epoch 2/7\n",
      " - 167s - loss: 0.6416 - accuracy: 0.9102 - val_loss: 0.1337 - val_accuracy: 0.9776\n",
      "\n",
      "Epoch 00002: val_loss did not improve from 0.03836\n",
      "Epoch 3/7\n",
      " - 154s - loss: 0.7071 - accuracy: 0.9085 - val_loss: 0.2205 - val_accuracy: 0.9491\n",
      "\n",
      "Epoch 00003: val_loss did not improve from 0.03836\n",
      "Epoch 4/7\n",
      " - 143s - loss: 0.7139 - accuracy: 0.9042 - val_loss: 0.0433 - val_accuracy: 0.9881\n",
      "\n",
      "Epoch 00004: val_loss did not improve from 0.03836\n",
      "Epoch 5/7\n",
      " - 132s - loss: 0.7510 - accuracy: 0.9063 - val_loss: 0.0345 - val_accuracy: 0.9898\n",
      "\n",
      "Epoch 00005: val_loss improved from 0.03836 to 0.03451, saving model to cnn.hdf5\n",
      "Epoch 6/7\n",
      " - 133s - loss: 0.7913 - accuracy: 0.9032 - val_loss: 0.0243 - val_accuracy: 0.9940\n",
      "\n",
      "Epoch 00006: val_loss improved from 0.03451 to 0.02433, saving model to cnn.hdf5\n",
      "Epoch 7/7\n",
      " - 142s - loss: 0.8416 - accuracy: 0.8975 - val_loss: 0.0446 - val_accuracy: 0.9890\n",
      "\n",
      "Epoch 00007: val_loss did not improve from 0.02433\n"
     ]
    }
   ],
   "source": [
    "# taken from kaggle post \n",
    "# https://www.kaggle.com/aninditapani/cnn-from-scratch-with-98-accuracy\n",
    "model_checkpoint = ModelCheckpoint(filepath = 'cnn.hdf5', verbose = 1, save_best_only = True)\n",
    "\n",
    "history = model.fit(X_train, y_train,\n",
    "        batch_size = 50,\n",
    "        epochs = 7,\n",
    "        validation_data=(X_val, y_val),\n",
    "        callbacks = [model_checkpoint],\n",
    "        verbose=2, shuffle=True)"
   ]
  },
  {
   "cell_type": "markdown",
   "metadata": {},
   "source": [
    "# 3.3 Modeling: Metrics By Epoch"
   ]
  },
  {
   "cell_type": "code",
   "execution_count": 51,
   "metadata": {},
   "outputs": [
    {
     "data": {
      "image/png": "[encoded data removed]",
      "text/plain": [
       "<Figure size 1008x432 with 2 Axes>"
      ]
     },
     "metadata": {
      "needs_background": "light"
     },
     "output_type": "display_data"
    }
   ],
   "source": [
    "fig, (ax1, ax2) = plt.subplots(1, 2, figsize=(14, 6))\n",
    "\n",
    "# plotting accuracy\n",
    "ax1.plot(history.history['accuracy'], label=\"train\")  \n",
    "ax1.plot(history.history['val_accuracy'], label=\"val\")  \n",
    "ax1.set_title('model accuracy')  \n",
    "ax1.set_ylabel('accuracy')  \n",
    "ax1.set_xlabel('epoch')  \n",
    "ax1.legend()  \n",
    "\n",
    "# # plotting loss\n",
    "ax2.plot(history.history['loss'], label=\"train\")  \n",
    "ax2.plot(history.history['val_loss'], label=\"val\")  \n",
    "ax2.set_title('model loss')  \n",
    "ax2.set_ylabel('loss')  \n",
    "ax2.set_xlabel('epoch')  \n",
    "ax2.legend()  \n",
    "\n",
    "plt.show()"
   ]
  },
  {
   "cell_type": "markdown",
   "metadata": {},
   "source": [
    "# 4.1: Test Results"
   ]
  },
  {
   "cell_type": "code",
   "execution_count": 53,
   "metadata": {},
   "outputs": [
    {
     "name": "stdout",
     "output_type": "stream",
     "text": [
      "13624/13624 [==============================] - 17s 1ms/step\n",
      "\n",
      " Test accuracy: 0.9944216012954712\n"
     ]
    }
   ],
   "source": [
    "# load weights and evaluate on testing set\n",
    "model.load_weights('cnn.hdf5')\n",
    "score = model.evaluate(X_test, y_test)\n",
    "print('\\n', 'Test accuracy:', score[1])"
   ]
  },
  {
   "cell_type": "markdown",
   "metadata": {},
   "source": [
    "# Final Result 99.4% Accuracy"
   ]
  }
 ],
 "metadata": {
  "kernelspec": {
   "display_name": "Python 3",
   "language": "python",
   "name": "python3"
  },
  "language_info": {
   "codemirror_mode": {
    "name": "ipython",
    "version": 3
   },
   "file_extension": ".py",
   "mimetype": "text/x-python",
   "name": "python",
   "nbconvert_exporter": "python",
   "pygments_lexer": "ipython3",
   "version": "3.7.3"
  }
 },
 "nbformat": 4,
 "nbformat_minor": 2
}
